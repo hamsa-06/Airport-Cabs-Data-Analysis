{
  "nbformat": 4,
  "nbformat_minor": 0,
  "metadata": {
    "colab": {
      "provenance": []
    },
    "kernelspec": {
      "name": "python3",
      "display_name": "Python 3"
    },
    "language_info": {
      "name": "python"
    }
  },
  "cells": [
    {
      "cell_type": "markdown",
      "source": [
        "\n",
        "\n",
        "**Airport Cabs Data Analysis**\n",
        "\n"
      ],
      "metadata": {
        "id": "9fMlaevuc1En"
      }
    },
    {
      "cell_type": "code",
      "source": [
        "import numpy as np\n",
        "trip = np.genfromtxt('nyc_taxis.csv',delimiter=',', skip_header=True)\n",
        "trip"
      ],
      "metadata": {
        "colab": {
          "base_uri": "https://localhost:8080/"
        },
        "id": "8mmSqifDQ0SN",
        "outputId": "19c6594c-9923-407c-9c04-8f6fd34b2e30"
      },
      "execution_count": 32,
      "outputs": [
        {
          "output_type": "execute_result",
          "data": {
            "text/plain": [
              "array([[2.016e+03, 1.000e+00, 1.000e+00, ..., 1.165e+01, 6.999e+01,\n",
              "        1.000e+00],\n",
              "       [2.016e+03, 1.000e+00, 1.000e+00, ..., 8.000e+00, 5.430e+01,\n",
              "        1.000e+00],\n",
              "       [2.016e+03, 1.000e+00, 1.000e+00, ..., 0.000e+00, 3.780e+01,\n",
              "        2.000e+00],\n",
              "       ...,\n",
              "       [2.016e+03, 6.000e+00, 3.000e+01, ..., 5.000e+00, 6.334e+01,\n",
              "        1.000e+00],\n",
              "       [2.016e+03, 6.000e+00, 3.000e+01, ..., 8.950e+00, 4.475e+01,\n",
              "        1.000e+00],\n",
              "       [2.016e+03, 6.000e+00, 3.000e+01, ..., 0.000e+00, 5.484e+01,\n",
              "        2.000e+00]])"
            ]
          },
          "metadata": {},
          "execution_count": 32
        }
      ]
    },
    {
      "cell_type": "markdown",
      "source": [
        "Mean speed of all the rides"
      ],
      "metadata": {
        "id": "HLbiCZaXdMIO"
      }
    },
    {
      "cell_type": "code",
      "source": [
        "import numpy as np\n",
        "speed = trip[:,7]/(trip[:,8]/3600)\n",
        "mean_speed = np.mean(speed)\n",
        "mean_speed"
      ],
      "metadata": {
        "colab": {
          "base_uri": "https://localhost:8080/"
        },
        "id": "wFifTi6LOrE7",
        "outputId": "b894b11b-7bb2-4670-8689-ffec7b5483d7"
      },
      "execution_count": 36,
      "outputs": [
        {
          "output_type": "execute_result",
          "data": {
            "text/plain": [
              "32.24258580925573"
            ]
          },
          "metadata": {},
          "execution_count": 36
        }
      ]
    },
    {
      "cell_type": "markdown",
      "source": [
        "Number Of Rides taken in February"
      ],
      "metadata": {
        "id": "LrGyyN9LdSyP"
      }
    },
    {
      "cell_type": "code",
      "source": [
        "noofrides = np.sum(trip[:,1] == 2)\n",
        "noofrides"
      ],
      "metadata": {
        "colab": {
          "base_uri": "https://localhost:8080/"
        },
        "id": "dvkl9lRxP7Kn",
        "outputId": "c3e7d286-d33c-4d51-8252-401cbc4bc29f"
      },
      "execution_count": 39,
      "outputs": [
        {
          "output_type": "execute_result",
          "data": {
            "text/plain": [
              "13333"
            ]
          },
          "metadata": {},
          "execution_count": 39
        }
      ]
    },
    {
      "cell_type": "markdown",
      "source": [
        "Number Of Rides Where Tip More Than $50"
      ],
      "metadata": {
        "id": "cDlZDgrQdXBs"
      }
    },
    {
      "cell_type": "code",
      "source": [
        "noofridesbytip = np.sum(trip[:,-3] > 50)\n",
        "noofridesbytip"
      ],
      "metadata": {
        "colab": {
          "base_uri": "https://localhost:8080/"
        },
        "id": "KhAD3ZDzQKyn",
        "outputId": "a7b34b7e-c758-45e5-95a1-e10e37801c59"
      },
      "execution_count": 40,
      "outputs": [
        {
          "output_type": "execute_result",
          "data": {
            "text/plain": [
              "16"
            ]
          },
          "metadata": {},
          "execution_count": 40
        }
      ]
    },
    {
      "cell_type": "markdown",
      "source": [
        "Number of Rides where Drop was JSK airport"
      ],
      "metadata": {
        "id": "0eIHrxmvdgH3"
      }
    },
    {
      "cell_type": "code",
      "source": [
        "c = np.sum(trip[:,6] == 2)\n",
        "c"
      ],
      "metadata": {
        "colab": {
          "base_uri": "https://localhost:8080/"
        },
        "id": "LY0cnarrT8dY",
        "outputId": "3febe20d-aefd-4a4c-c958-b43c2cef3cf9"
      },
      "execution_count": 41,
      "outputs": [
        {
          "output_type": "execute_result",
          "data": {
            "text/plain": [
              "11832"
            ]
          },
          "metadata": {},
          "execution_count": 41
        }
      ]
    },
    {
      "cell_type": "markdown",
      "source": [
        "On which day of the week do airport cab rides peak"
      ],
      "metadata": {
        "id": "0eJgo4V4XgoY"
      }
    },
    {
      "cell_type": "code",
      "source": [
        "dayofweek,counts = np.unique(trip[:,3],return_counts=True)\n",
        "peak_day = dayofweek[np.argmax(counts)]\n",
        "peak_day"
      ],
      "metadata": {
        "colab": {
          "base_uri": "https://localhost:8080/"
        },
        "id": "XoKG0222WLTL",
        "outputId": "cc2d59a9-2bd5-41a1-e4a2-5a3559a35871"
      },
      "execution_count": 49,
      "outputs": [
        {
          "output_type": "execute_result",
          "data": {
            "text/plain": [
              "1.0"
            ]
          },
          "metadata": {},
          "execution_count": 49
        }
      ]
    },
    {
      "cell_type": "markdown",
      "source": [
        "What is the average pickup time for airport cabs"
      ],
      "metadata": {
        "id": "E-mvTfsHYseU"
      }
    },
    {
      "cell_type": "code",
      "source": [
        "avg_pickup = np.mean(trip[:,4])\n",
        "avg_pickup"
      ],
      "metadata": {
        "colab": {
          "base_uri": "https://localhost:8080/"
        },
        "id": "96qpeCn5XdMr",
        "outputId": "95718986-dad4-4b8d-b8a5-0daccc952dd0"
      },
      "execution_count": 51,
      "outputs": [
        {
          "output_type": "execute_result",
          "data": {
            "text/plain": [
              "3.0826708351942833"
            ]
          },
          "metadata": {},
          "execution_count": 51
        }
      ]
    },
    {
      "cell_type": "markdown",
      "source": [
        "Which pickup location has the highest number of rides"
      ],
      "metadata": {
        "id": "hvsyt9AwYp7m"
      }
    },
    {
      "cell_type": "code",
      "source": [
        "high_no,count = np.unique(trip[:,5],return_counts=True)\n",
        "high_pickup_code = high_no[np.argmax(count)]\n",
        "high_pickup_code"
      ],
      "metadata": {
        "colab": {
          "base_uri": "https://localhost:8080/"
        },
        "id": "_P1rPfdvYHfN",
        "outputId": "fc84c34b-0d68-4bd2-87c0-e5dc2e18ab02"
      },
      "execution_count": 52,
      "outputs": [
        {
          "output_type": "execute_result",
          "data": {
            "text/plain": [
              "3.0"
            ]
          },
          "metadata": {},
          "execution_count": 52
        }
      ]
    },
    {
      "cell_type": "markdown",
      "source": [
        "Which drop-off location is the most frequent destination"
      ],
      "metadata": {
        "id": "jccj23jIY5mA"
      }
    },
    {
      "cell_type": "code",
      "source": [
        "high_no,count = np.unique(trip[:,6],return_counts=True)\n",
        "high_drop_code = high_no[np.argmax(count)]\n",
        "high_drop_code"
      ],
      "metadata": {
        "colab": {
          "base_uri": "https://localhost:8080/"
        },
        "id": "NtiR9k9iYnSO",
        "outputId": "a037eb23-1933-4964-d32c-429680748a48"
      },
      "execution_count": 53,
      "outputs": [
        {
          "output_type": "execute_result",
          "data": {
            "text/plain": [
              "4.0"
            ]
          },
          "metadata": {},
          "execution_count": 53
        }
      ]
    },
    {
      "cell_type": "markdown",
      "source": [
        "What is the average trip distance covered by airport cabs"
      ],
      "metadata": {
        "id": "Lt1rZsZpZa7F"
      }
    },
    {
      "cell_type": "code",
      "source": [
        "avg_distance = np.mean(trip[:,7])\n",
        "avg_distance"
      ],
      "metadata": {
        "colab": {
          "base_uri": "https://localhost:8080/"
        },
        "id": "0tI0LMWGZN7T",
        "outputId": "daabb4c1-2268-4ed8-b368-32c2414a5cd6"
      },
      "execution_count": 55,
      "outputs": [
        {
          "output_type": "execute_result",
          "data": {
            "text/plain": [
              "12.6674260830728"
            ]
          },
          "metadata": {},
          "execution_count": 55
        }
      ]
    },
    {
      "cell_type": "markdown",
      "source": [
        "What is the maximum and minimum trip distance recorded"
      ],
      "metadata": {
        "id": "Ric87pbOZlCM"
      }
    },
    {
      "cell_type": "code",
      "source": [
        "min = np.min(trip[:,7])\n",
        "max = np.max(trip[:,7])\n",
        "min,max"
      ],
      "metadata": {
        "colab": {
          "base_uri": "https://localhost:8080/"
        },
        "id": "QO8WmS5hZbmX",
        "outputId": "1f98fdb8-7277-4361-d9a2-7788b58f3af9"
      },
      "execution_count": 58,
      "outputs": [
        {
          "output_type": "execute_result",
          "data": {
            "text/plain": [
              "(0.0, 182.9)"
            ]
          },
          "metadata": {},
          "execution_count": 58
        }
      ]
    },
    {
      "cell_type": "markdown",
      "source": [
        "What is the average trip length (duration)"
      ],
      "metadata": {
        "id": "lgzVC_CNZxc5"
      }
    },
    {
      "cell_type": "code",
      "source": [
        "avg_trip = np.mean(trip[:,8])\n",
        "avg_trip"
      ],
      "metadata": {
        "colab": {
          "base_uri": "https://localhost:8080/"
        },
        "id": "zBFoFbUTZwxZ",
        "outputId": "cc8da70d-b26c-4426-f40a-a3a1099d6232"
      },
      "execution_count": 59,
      "outputs": [
        {
          "output_type": "execute_result",
          "data": {
            "text/plain": [
              "2235.981107637338"
            ]
          },
          "metadata": {},
          "execution_count": 59
        }
      ]
    },
    {
      "cell_type": "markdown",
      "source": [
        "What is the average fare amount for an airport cab ride"
      ],
      "metadata": {
        "id": "zKzmv50Oa-cm"
      }
    },
    {
      "cell_type": "code",
      "source": [
        "avg_fare_amount = np.mean(trip[:,-6])\n",
        "avg_fare_amount"
      ],
      "metadata": {
        "colab": {
          "base_uri": "https://localhost:8080/"
        },
        "id": "flgWF46Makc0",
        "outputId": "ae161f8a-2c09-4a4e-d3ea-6252f37feafd"
      },
      "execution_count": 61,
      "outputs": [
        {
          "output_type": "execute_result",
          "data": {
            "text/plain": [
              "38.404484033050466"
            ]
          },
          "metadata": {},
          "execution_count": 61
        }
      ]
    },
    {
      "cell_type": "markdown",
      "source": [
        "What is the total revenue generated from all trips"
      ],
      "metadata": {
        "id": "uXvbD5E8a_1r"
      }
    },
    {
      "cell_type": "code",
      "source": [
        "total_revenue = np.sum(trip[:,-2])\n",
        "total_revenue"
      ],
      "metadata": {
        "colab": {
          "base_uri": "https://localhost:8080/"
        },
        "id": "xTN1XK-cauzN",
        "outputId": "7025618f-0b09-4294-eee2-333b684a7163"
      },
      "execution_count": 63,
      "outputs": [
        {
          "output_type": "execute_result",
          "data": {
            "text/plain": [
              "4385454.29"
            ]
          },
          "metadata": {},
          "execution_count": 63
        }
      ]
    },
    {
      "cell_type": "markdown",
      "source": [
        "How much do passengers pay in fees, tolls, and tips on average"
      ],
      "metadata": {
        "id": "an9KkGUQdtBW"
      }
    },
    {
      "cell_type": "code",
      "source": [
        "tip_amt= np.mean(trip[:,-3])\n",
        "toll_amt = np.mean(trip[:-4])\n",
        "fee_amt = np.mean(trip[:,-5])\n",
        "tip_amt,toll_amt,fee_amt"
      ],
      "metadata": {
        "colab": {
          "base_uri": "https://localhost:8080/"
        },
        "id": "WEAadakta6Gc",
        "outputId": "480b8f4c-fd5d-4a1d-9954-29b0e7fb1406"
      },
      "execution_count": 68,
      "outputs": [
        {
          "output_type": "execute_result",
          "data": {
            "text/plain": [
              "(5.814489169271996, 293.09682651450873, 1.2091764180437696)"
            ]
          },
          "metadata": {},
          "execution_count": 68
        }
      ]
    },
    {
      "cell_type": "markdown",
      "source": [
        "Which payment type (cash, card, etc.) is most commonly used"
      ],
      "metadata": {
        "id": "whjLCZqqdukX"
      }
    },
    {
      "cell_type": "code",
      "source": [
        "pay_count,count=np.unique(trip[:,-1],return_counts=True)\n",
        "print(pay_count[np.argmax(count)])"
      ],
      "metadata": {
        "colab": {
          "base_uri": "https://localhost:8080/"
        },
        "id": "4SYnDpyWcKLj",
        "outputId": "16c3ac63-a8e0-4b66-fdaa-14f1827471cf"
      },
      "execution_count": 74,
      "outputs": [
        {
          "output_type": "stream",
          "name": "stdout",
          "text": [
            "1.0\n"
          ]
        }
      ]
    }
  ]
}